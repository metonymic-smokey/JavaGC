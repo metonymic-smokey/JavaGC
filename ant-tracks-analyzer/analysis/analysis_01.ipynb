{
 "cells": [
  {
   "cell_type": "code",
   "execution_count": 1,
   "id": "3edc995d-eaaa-4d59-bca5-ea874f6029e2",
   "metadata": {},
   "outputs": [],
   "source": [
    "import pandas as pd"
   ]
  },
  {
   "cell_type": "code",
   "execution_count": 2,
   "id": "7f9960c9-a8a0-446e-a2f9-0eaf28e2aa95",
   "metadata": {},
   "outputs": [],
   "source": [
    "import matplotlib.pyplot as plt"
   ]
  },
  {
   "cell_type": "code",
   "execution_count": 3,
   "id": "9cf7747e-30b4-4f7a-93b3-76da64734b3f",
   "metadata": {},
   "outputs": [],
   "source": [
    "columns = [\n",
    "    \"bornAt\",\n",
    "    \"lastMovedAt\",\n",
    "    \"tag\",\n",
    "    \"size\",\n",
    "    \"arrayLen\",\n",
    "    \"address\",\n",
    "    \"gcTime\",\n",
    "    \"gcId\",\n",
    "    \"allocationSite\",\n",
    "    \"lifetime\",\n",
    "    \"type\",\n",
    "    \"isArray\",\n",
    "    \"arrayLen_2\",\n",
    "    \"bornTime_2\"\n",
    "]"
   ]
  },
  {
   "cell_type": "code",
   "execution_count": null,
   "id": "e10b92fb-c679-41c6-b1cf-941ac82ea7fd",
   "metadata": {},
   "outputs": [],
   "source": [
    "df = pd.read_csv(\"../outputs/benchmark_v1_trace.csv\", names=columns)"
   ]
  },
  {
   "cell_type": "code",
   "execution_count": 5,
   "id": "07c78cf1-eb7a-4320-8f15-7ecbef968d4c",
   "metadata": {},
   "outputs": [
    {
     "data": {
      "text/html": [
       "<div>\n",
       "<style scoped>\n",
       "    .dataframe tbody tr th:only-of-type {\n",
       "        vertical-align: middle;\n",
       "    }\n",
       "\n",
       "    .dataframe tbody tr th {\n",
       "        vertical-align: top;\n",
       "    }\n",
       "\n",
       "    .dataframe thead th {\n",
       "        text-align: right;\n",
       "    }\n",
       "</style>\n",
       "<table border=\"1\" class=\"dataframe\">\n",
       "  <thead>\n",
       "    <tr style=\"text-align: right;\">\n",
       "      <th></th>\n",
       "      <th>bornAt</th>\n",
       "      <th>lastMovedAt</th>\n",
       "      <th>tag</th>\n",
       "      <th>size</th>\n",
       "      <th>arrayLen</th>\n",
       "      <th>address</th>\n",
       "      <th>gcTime</th>\n",
       "      <th>gcId</th>\n",
       "      <th>allocationSite</th>\n",
       "      <th>lifetime</th>\n",
       "      <th>type</th>\n",
       "      <th>isArray</th>\n",
       "      <th>arrayLen_2</th>\n",
       "      <th>bornTime_2</th>\n",
       "    </tr>\n",
       "  </thead>\n",
       "  <tbody>\n",
       "    <tr>\n",
       "      <th>0</th>\n",
       "      <td>0</td>\n",
       "      <td>-1</td>\n",
       "      <td>20</td>\n",
       "      <td>16</td>\n",
       "      <td>0</td>\n",
       "      <td>4289726304</td>\n",
       "      <td>235</td>\n",
       "      <td>1</td>\n",
       "      <td>VM internal:-1</td>\n",
       "      <td>3.0</td>\n",
       "      <td>[I</td>\n",
       "      <td>True</td>\n",
       "      <td>0.0</td>\n",
       "      <td>232.0</td>\n",
       "    </tr>\n",
       "    <tr>\n",
       "      <th>1</th>\n",
       "      <td>0</td>\n",
       "      <td>-1</td>\n",
       "      <td>26</td>\n",
       "      <td>16</td>\n",
       "      <td>0</td>\n",
       "      <td>4289726664</td>\n",
       "      <td>235</td>\n",
       "      <td>1</td>\n",
       "      <td>VM internal:-1</td>\n",
       "      <td>3.0</td>\n",
       "      <td>[I</td>\n",
       "      <td>True</td>\n",
       "      <td>0.0</td>\n",
       "      <td>232.0</td>\n",
       "    </tr>\n",
       "    <tr>\n",
       "      <th>2</th>\n",
       "      <td>0</td>\n",
       "      <td>-1</td>\n",
       "      <td>28</td>\n",
       "      <td>16</td>\n",
       "      <td>0</td>\n",
       "      <td>4289726800</td>\n",
       "      <td>235</td>\n",
       "      <td>1</td>\n",
       "      <td>VM internal:-1</td>\n",
       "      <td>3.0</td>\n",
       "      <td>[I</td>\n",
       "      <td>True</td>\n",
       "      <td>0.0</td>\n",
       "      <td>232.0</td>\n",
       "    </tr>\n",
       "    <tr>\n",
       "      <th>3</th>\n",
       "      <td>0</td>\n",
       "      <td>-1</td>\n",
       "      <td>30</td>\n",
       "      <td>16</td>\n",
       "      <td>0</td>\n",
       "      <td>4289726920</td>\n",
       "      <td>235</td>\n",
       "      <td>1</td>\n",
       "      <td>VM internal:-1</td>\n",
       "      <td>3.0</td>\n",
       "      <td>[I</td>\n",
       "      <td>True</td>\n",
       "      <td>0.0</td>\n",
       "      <td>232.0</td>\n",
       "    </tr>\n",
       "    <tr>\n",
       "      <th>4</th>\n",
       "      <td>0</td>\n",
       "      <td>-1</td>\n",
       "      <td>34</td>\n",
       "      <td>16</td>\n",
       "      <td>0</td>\n",
       "      <td>4289727160</td>\n",
       "      <td>235</td>\n",
       "      <td>1</td>\n",
       "      <td>VM internal:-1</td>\n",
       "      <td>3.0</td>\n",
       "      <td>[I</td>\n",
       "      <td>True</td>\n",
       "      <td>0.0</td>\n",
       "      <td>232.0</td>\n",
       "    </tr>\n",
       "    <tr>\n",
       "      <th>...</th>\n",
       "      <td>...</td>\n",
       "      <td>...</td>\n",
       "      <td>...</td>\n",
       "      <td>...</td>\n",
       "      <td>...</td>\n",
       "      <td>...</td>\n",
       "      <td>...</td>\n",
       "      <td>...</td>\n",
       "      <td>...</td>\n",
       "      <td>...</td>\n",
       "      <td>...</td>\n",
       "      <td>...</td>\n",
       "      <td>...</td>\n",
       "      <td>...</td>\n",
       "    </tr>\n",
       "    <tr>\n",
       "      <th>883595</th>\n",
       "      <td>7</td>\n",
       "      <td>-1</td>\n",
       "      <td>918390</td>\n",
       "      <td>16</td>\n",
       "      <td>-1</td>\n",
       "      <td>4292835456</td>\n",
       "      <td>287</td>\n",
       "      <td>8</td>\n",
       "      <td>Bench.main([Ljava/lang/String;)V:40</td>\n",
       "      <td>3.0</td>\n",
       "      <td>LHahaAClass;</td>\n",
       "      <td>False</td>\n",
       "      <td>-1.0</td>\n",
       "      <td>284.0</td>\n",
       "    </tr>\n",
       "    <tr>\n",
       "      <th>883596</th>\n",
       "      <td>7</td>\n",
       "      <td>-1</td>\n",
       "      <td>918391</td>\n",
       "      <td>16</td>\n",
       "      <td>-1</td>\n",
       "      <td>4292835472</td>\n",
       "      <td>287</td>\n",
       "      <td>8</td>\n",
       "      <td>Bench.main([Ljava/lang/String;)V:40</td>\n",
       "      <td>3.0</td>\n",
       "      <td>LHahaAClass;</td>\n",
       "      <td>False</td>\n",
       "      <td>-1.0</td>\n",
       "      <td>284.0</td>\n",
       "    </tr>\n",
       "    <tr>\n",
       "      <th>883597</th>\n",
       "      <td>7</td>\n",
       "      <td>-1</td>\n",
       "      <td>918392</td>\n",
       "      <td>16</td>\n",
       "      <td>-1</td>\n",
       "      <td>4292835488</td>\n",
       "      <td>287</td>\n",
       "      <td>8</td>\n",
       "      <td>Bench.main([Ljava/lang/String;)V:40</td>\n",
       "      <td>3.0</td>\n",
       "      <td>LHahaAClass;</td>\n",
       "      <td>False</td>\n",
       "      <td>-1.0</td>\n",
       "      <td>284.0</td>\n",
       "    </tr>\n",
       "    <tr>\n",
       "      <th>883598</th>\n",
       "      <td>7</td>\n",
       "      <td>-1</td>\n",
       "      <td>918393</td>\n",
       "      <td>16</td>\n",
       "      <td>-1</td>\n",
       "      <td>4292835504</td>\n",
       "      <td>287</td>\n",
       "      <td>8</td>\n",
       "      <td>Bench.main([Ljava/lang/String;)V:40</td>\n",
       "      <td>3.0</td>\n",
       "      <td>LHahaAClass;</td>\n",
       "      <td>False</td>\n",
       "      <td>-1.0</td>\n",
       "      <td>284.0</td>\n",
       "    </tr>\n",
       "    <tr>\n",
       "      <th>883599</th>\n",
       "      <td>7</td>\n",
       "      <td>-1</td>\n",
       "      <td>918394</td>\n",
       "      <td>16</td>\n",
       "      <td>-1</td>\n",
       "      <td>4292835520</td>\n",
       "      <td>287</td>\n",
       "      <td>8</td>\n",
       "      <td>Bench.mai</td>\n",
       "      <td>NaN</td>\n",
       "      <td>NaN</td>\n",
       "      <td>NaN</td>\n",
       "      <td>NaN</td>\n",
       "      <td>NaN</td>\n",
       "    </tr>\n",
       "  </tbody>\n",
       "</table>\n",
       "<p>883600 rows × 14 columns</p>\n",
       "</div>"
      ],
      "text/plain": [
       "        bornAt  lastMovedAt     tag  size  arrayLen     address  gcTime  gcId  \\\n",
       "0            0           -1      20    16         0  4289726304     235     1   \n",
       "1            0           -1      26    16         0  4289726664     235     1   \n",
       "2            0           -1      28    16         0  4289726800     235     1   \n",
       "3            0           -1      30    16         0  4289726920     235     1   \n",
       "4            0           -1      34    16         0  4289727160     235     1   \n",
       "...        ...          ...     ...   ...       ...         ...     ...   ...   \n",
       "883595       7           -1  918390    16        -1  4292835456     287     8   \n",
       "883596       7           -1  918391    16        -1  4292835472     287     8   \n",
       "883597       7           -1  918392    16        -1  4292835488     287     8   \n",
       "883598       7           -1  918393    16        -1  4292835504     287     8   \n",
       "883599       7           -1  918394    16        -1  4292835520     287     8   \n",
       "\n",
       "                             allocationSite  lifetime          type isArray  \\\n",
       "0                            VM internal:-1       3.0            [I    True   \n",
       "1                            VM internal:-1       3.0            [I    True   \n",
       "2                            VM internal:-1       3.0            [I    True   \n",
       "3                            VM internal:-1       3.0            [I    True   \n",
       "4                            VM internal:-1       3.0            [I    True   \n",
       "...                                     ...       ...           ...     ...   \n",
       "883595  Bench.main([Ljava/lang/String;)V:40       3.0  LHahaAClass;   False   \n",
       "883596  Bench.main([Ljava/lang/String;)V:40       3.0  LHahaAClass;   False   \n",
       "883597  Bench.main([Ljava/lang/String;)V:40       3.0  LHahaAClass;   False   \n",
       "883598  Bench.main([Ljava/lang/String;)V:40       3.0  LHahaAClass;   False   \n",
       "883599                            Bench.mai       NaN           NaN     NaN   \n",
       "\n",
       "        arrayLen_2  bornTime_2  \n",
       "0              0.0       232.0  \n",
       "1              0.0       232.0  \n",
       "2              0.0       232.0  \n",
       "3              0.0       232.0  \n",
       "4              0.0       232.0  \n",
       "...            ...         ...  \n",
       "883595        -1.0       284.0  \n",
       "883596        -1.0       284.0  \n",
       "883597        -1.0       284.0  \n",
       "883598        -1.0       284.0  \n",
       "883599         NaN         NaN  \n",
       "\n",
       "[883600 rows x 14 columns]"
      ]
     },
     "execution_count": 5,
     "metadata": {},
     "output_type": "execute_result"
    }
   ],
   "source": [
    "df"
   ]
  },
  {
   "cell_type": "code",
   "execution_count": 25,
   "id": "22f3d08a-1db2-4768-8435-f4410201f464",
   "metadata": {},
   "outputs": [],
   "source": [
    "def get_groups(group_by_cols, N=100):\n",
    "    groups = df.groupby(group_by_cols)\n",
    "    \n",
    "    N = 100\n",
    "\n",
    "    types = []\n",
    "    for name, group in groups:\n",
    "        # skip classes which have <N objects\n",
    "        if len(group) >= N:\n",
    "            types.append(name)\n",
    "    \n",
    "    return types, groups"
   ]
  },
  {
   "cell_type": "code",
   "execution_count": 26,
   "id": "58a9f23a-1411-4212-a8ad-d3b9cea90cbd",
   "metadata": {},
   "outputs": [],
   "source": [
    "types, groups = get_groups(\"type\", N=100)\n",
    "num_types = len(types)"
   ]
  },
  {
   "cell_type": "markdown",
   "id": "06eb7f05-4b9e-4fcd-9255-98757c9534df",
   "metadata": {},
   "source": [
    "## Distribution of lifetimes for each type"
   ]
  },
  {
   "cell_type": "code",
   "execution_count": 27,
   "id": "f76be886-6edd-4010-8dcb-d3e88cab5d54",
   "metadata": {
    "scrolled": true,
    "tags": []
   },
   "outputs": [
    {
     "data": {
      "image/png": "[encoded data removed]",
      "text/plain": [
       "<Figure size 720x2520 with 7 Axes>"
      ]
     },
     "metadata": {
      "needs_background": "light"
     },
     "output_type": "display_data"
    }
   ],
   "source": [
    "fig, axs = plt.subplots(num_types, 1, tight_layout=True, figsize=(10, 5 * num_types))\n",
    "\n",
    "for name, ax in zip(types, axs):\n",
    "    group = groups.get_group(name)\n",
    "    # display(group)\n",
    "    # print(name)\n",
    "    \n",
    "    ax.hist(group.lifetime)\n",
    "    ax.set_xlabel(name)"
   ]
  },
  {
   "cell_type": "markdown",
   "id": "99dac8ca-ed81-4a79-87c3-d31be4b3af49",
   "metadata": {},
   "source": [
    "## Average lifetime of each class"
   ]
  },
  {
   "cell_type": "code",
   "execution_count": 38,
   "id": "1c51e4d2-004f-451a-97b6-54ae0cf37b7b",
   "metadata": {},
   "outputs": [
    {
     "name": "stdout",
     "output_type": "stream",
     "text": [
      "getting mean of all types...\n"
     ]
    },
    {
     "data": {
      "text/plain": [
       "<BarContainer object of 7 artists>"
      ]
     },
     "execution_count": 38,
     "metadata": {},
     "output_type": "execute_result"
    },
    {
     "data": {
      "image/png": "[encoded data removed]",
      "text/plain": [
       "<Figure size 432x288 with 1 Axes>"
      ]
     },
     "metadata": {
      "needs_background": "light"
     },
     "output_type": "display_data"
    }
   ],
   "source": [
    "means = []\n",
    "print(\"getting mean of all types...\")\n",
    "\n",
    "for name in types:\n",
    "    group = groups.get_group(name)\n",
    "    \n",
    "    means.append(group.lifetime.mean())\n",
    "    \n",
    "plt.barh([i for i in range(num_types)], means, tick_label=types)\n",
    "# plt.xticks(rotation=45)"
   ]
  },
  {
   "cell_type": "markdown",
   "id": "b1c66994-df91-465a-bedc-35a20884dd3d",
   "metadata": {},
   "source": [
    "## Average lifetime of each class grouped by allocation site"
   ]
  },
  {
   "cell_type": "code",
   "execution_count": 39,
   "id": "b367bc37-c266-421a-b167-8fbf027e441d",
   "metadata": {},
   "outputs": [],
   "source": [
    "alloc_site_group_names, alloc_site_groups = get_groups([\"type\", \"allocationSite\"], 10)\n",
    "num_names = len(alloc_site_group_names)"
   ]
  },
  {
   "cell_type": "code",
   "execution_count": 40,
   "id": "f391cac3-a445-413d-a895-b99dfa3ed7cf",
   "metadata": {},
   "outputs": [
    {
     "data": {
      "text/plain": [
       "[('LHahaAClass;', 'Bench.main([Ljava/lang/String;)V:40'),\n",
       " ('Ljava/lang/String;', 'VM internal:-1'),\n",
       " ('[C', 'java.lang.AbstractStringBuilder.<init>(I)V:6'),\n",
       " ('[C', 'java.util.Arrays.copyOf([CI)[C:1'),\n",
       " ('[C', 'java.util.Arrays.copyOfRange([CII)[C:40'),\n",
       " ('[I', 'VM internal (Object filler):-1'),\n",
       " ('[I', 'VM internal:-1')]"
      ]
     },
     "execution_count": 40,
     "metadata": {},
     "output_type": "execute_result"
    }
   ],
   "source": [
    "alloc_site_group_names"
   ]
  },
  {
   "cell_type": "code",
   "execution_count": 41,
   "id": "980da4a0-acf1-4fec-8104-cd690b0fa347",
   "metadata": {},
   "outputs": [
    {
     "name": "stdout",
     "output_type": "stream",
     "text": [
      "getting mean of all types...\n"
     ]
    },
    {
     "data": {
      "text/plain": [
       "<BarContainer object of 7 artists>"
      ]
     },
     "execution_count": 41,
     "metadata": {},
     "output_type": "execute_result"
    },
    {
     "data": {
      "image/png": "[encoded data removed]",
      "text/plain": [
       "<Figure size 432x288 with 1 Axes>"
      ]
     },
     "metadata": {
      "needs_background": "light"
     },
     "output_type": "display_data"
    }
   ],
   "source": [
    "means = []\n",
    "print(\"getting mean of all types...\")\n",
    "\n",
    "for name in alloc_site_group_names:\n",
    "    group = alloc_site_groups.get_group(name)\n",
    "    \n",
    "    means.append(group.lifetime.mean())\n",
    "    \n",
    "plt.barh([i for i in range(num_names)], means, tick_label=[\"-\".join(i) for i in alloc_site_group_names])\n",
    "# plt.xticks(rotation=90)"
   ]
  },
  {
   "cell_type": "code",
   "execution_count": null,
   "id": "70c823ad-e3fe-432f-8f15-a673b5b0134b",
   "metadata": {},
   "outputs": [],
   "source": []
  }
 ],
 "metadata": {
  "kernelspec": {
   "display_name": "Python 3",
   "language": "python",
   "name": "python3"
  },
  "language_info": {
   "codemirror_mode": {
    "name": "ipython",
    "version": 3
   },
   "file_extension": ".py",
   "mimetype": "text/x-python",
   "name": "python",
   "nbconvert_exporter": "python",
   "pygments_lexer": "ipython3",
   "version": "3.9.7"
  }
 },
 "nbformat": 4,
 "nbformat_minor": 5
}
